{
 "cells": [
  {
   "cell_type": "code",
   "execution_count": 1,
   "id": "94dabe63",
   "metadata": {},
   "outputs": [
    {
     "name": "stdout",
     "output_type": "stream",
     "text": [
      "可視化画像を output_vis フォルダに保存しました。\n"
     ]
    }
   ],
   "source": [
    "import os\n",
    "import cv2\n",
    "\n",
    "# ディレクトリ設定\n",
    "IMAGE_DIR = \"images\"\n",
    "LABEL_DIR = \"labels\"\n",
    "OUTPUT_DIR = \"output_vis\"  # 出力先ディレクトリ\n",
    "IMAGE_SIZE = 512\n",
    "\n",
    "# 出力先ディレクトリ作成\n",
    "os.makedirs(OUTPUT_DIR, exist_ok=True)\n",
    "\n",
    "# クラスごとの色指定\n",
    "COLORS = {\n",
    "    0: (255, 0, 0),    # Circle - Blue\n",
    "    1: (0, 255, 0),    # Triangle - Green\n",
    "    2: (0, 0, 255),    # Square - Red\n",
    "}\n",
    "\n",
    "# 対象画像一覧\n",
    "image_files = sorted([f for f in os.listdir(IMAGE_DIR) if f.endswith(\".png\")])\n",
    "\n",
    "for img_file in image_files:\n",
    "    img_path = os.path.join(IMAGE_DIR, img_file)\n",
    "    label_path = os.path.join(LABEL_DIR, img_file.replace(\".png\", \".txt\"))\n",
    "\n",
    "    # 画像読み込み\n",
    "    img_gray = cv2.imread(img_path, cv2.IMREAD_GRAYSCALE)\n",
    "    img = cv2.cvtColor(img_gray, cv2.COLOR_GRAY2BGR)\n",
    "\n",
    "    if os.path.exists(label_path):\n",
    "        with open(label_path, \"r\") as f:\n",
    "            for line in f:\n",
    "                parts = line.strip().split()\n",
    "                if len(parts) < 6:\n",
    "                    continue\n",
    "                class_id, cx, cy, w, h, area_norm = parts\n",
    "                class_id = int(class_id)\n",
    "                cx = float(cx)\n",
    "                cy = float(cy)\n",
    "                w = float(w)\n",
    "                h = float(h)\n",
    "                area_norm = float(area_norm)\n",
    "\n",
    "                # 非正規化のバウンディングボックス\n",
    "                x1 = int((cx - w / 2) * IMAGE_SIZE)\n",
    "                y1 = int((cy - h / 2) * IMAGE_SIZE)\n",
    "                x2 = int((cx + w / 2) * IMAGE_SIZE)\n",
    "                y2 = int((cy + h / 2) * IMAGE_SIZE)\n",
    "\n",
    "                area_px = int(area_norm * IMAGE_SIZE * IMAGE_SIZE)\n",
    "                color = COLORS.get(class_id, (255, 255, 255))\n",
    "\n",
    "                # 図形に枠を描画\n",
    "                cv2.rectangle(img, (x1, y1), (x2, y2), color, 2)\n",
    "\n",
    "                # クラスIDと面積（整数）を表示\n",
    "                label_text = f\"ID:{class_id} A:{area_px}\"\n",
    "                cv2.putText(img, label_text, (x1 + 2, y1 - 6),\n",
    "                            cv2.FONT_HERSHEY_SIMPLEX, 0.5, color, 1)\n",
    "\n",
    "    # 保存\n",
    "    save_path = os.path.join(OUTPUT_DIR, img_file)\n",
    "    cv2.imwrite(save_path, img)\n",
    "\n",
    "print(f\"可視化画像を {OUTPUT_DIR} フォルダに保存しました。\")\n"
   ]
  },
  {
   "cell_type": "code",
   "execution_count": null,
   "id": "a6f2a219",
   "metadata": {},
   "outputs": [],
   "source": []
  }
 ],
 "metadata": {
  "kernelspec": {
   "display_name": "Python 3 (ipykernel)",
   "language": "python",
   "name": "python3"
  },
  "language_info": {
   "codemirror_mode": {
    "name": "ipython",
    "version": 3
   },
   "file_extension": ".py",
   "mimetype": "text/x-python",
   "name": "python",
   "nbconvert_exporter": "python",
   "pygments_lexer": "ipython3",
   "version": "3.8.12"
  }
 },
 "nbformat": 4,
 "nbformat_minor": 5
}
