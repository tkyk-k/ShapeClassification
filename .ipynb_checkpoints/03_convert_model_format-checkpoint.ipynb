{
 "cells": [
  {
   "cell_type": "code",
   "execution_count": 1,
   "id": "33e95a7a",
   "metadata": {},
   "outputs": [],
   "source": [
    "import torch.nn as nn\n",
    "\n",
    "class YOLOShapeDetector(nn.Module):\n",
    "    \"\"\"\n",
    "    任意個数の図形（円・三角・四角）を検出するYOLO風の軽量ネットワーク。\n",
    "    1つの出力セルあたり B個の予測ボックスを出力。\n",
    "    \"\"\"\n",
    "\n",
    "    def __init__(self, S=16, B=2, num_classes=3):\n",
    "        \"\"\"\n",
    "        Args:\n",
    "            S (int): 出力グリッドの分割数（S x Sセル）\n",
    "            B (int): 1セルあたりの予測ボックス数\n",
    "            num_classes (int): クラス数（今回は 3：円・三角・四角）\n",
    "        \"\"\"\n",
    "        super().__init__()\n",
    "        self.S = S\n",
    "        self.B = B\n",
    "        self.num_classes = num_classes\n",
    "        self.output_dim = B * (1 + 4 + num_classes + 1)  # objectness + bbox + class probs + area\n",
    "\n",
    "        # 軽量CNNバックボーン\n",
    "        self.features = nn.Sequential(\n",
    "            nn.Conv2d(1, 16, 3, padding=1),  # 入力はグレースケール画像 (1, H, W)\n",
    "            nn.BatchNorm2d(16),\n",
    "            nn.ReLU(),\n",
    "            nn.MaxPool2d(2),  # 256x256\n",
    "\n",
    "            nn.Conv2d(16, 32, 3, padding=1),\n",
    "            nn.BatchNorm2d(32),\n",
    "            nn.ReLU(),\n",
    "            nn.MaxPool2d(2),  # 128x128\n",
    "\n",
    "            nn.Conv2d(32, 64, 3, padding=1),\n",
    "            nn.BatchNorm2d(64),\n",
    "            nn.ReLU(),\n",
    "            nn.MaxPool2d(2),  # 64x64\n",
    "\n",
    "            nn.Conv2d(64, 128, 3, padding=1),\n",
    "            nn.BatchNorm2d(128),\n",
    "            nn.ReLU(),\n",
    "            nn.MaxPool2d(2),  # 32x32\n",
    "\n",
    "            nn.Conv2d(128, 256, 3, padding=1),\n",
    "            nn.BatchNorm2d(256),\n",
    "            nn.ReLU(),\n",
    "            nn.MaxPool2d(2),  # 16x16 → S=16 に一致\n",
    "        )\n",
    "\n",
    "        # 出力層：S×SセルごとにB個の予測（objectness + bbox + class + area）\n",
    "        self.pred_head = nn.Conv2d(256, self.output_dim, kernel_size=1)\n",
    "\n",
    "    def forward(self, x):\n",
    "        \"\"\"\n",
    "        入力画像から予測を出力\n",
    "\n",
    "        Args:\n",
    "            x (Tensor): [B, 1, H, W] のグレースケール画像\n",
    "\n",
    "        Returns:\n",
    "            Tensor: [B, S, S, B, 7 + num_classes] の予測\n",
    "        \"\"\"\n",
    "        feat = self.features(x)  # [B, 256, S, S]\n",
    "        out = self.pred_head(feat)  # [B, output_dim, S, S]\n",
    "\n",
    "        B, C, S, S = out.shape\n",
    "        out = out.permute(0, 2, 3, 1).contiguous()  # [B, S, S, output_dim]\n",
    "\n",
    "        out = out.view(B, S, S, self.B, -1)  # [B, S, S, B, 6 + num_classes]\n",
    "\n",
    "        return out"
   ]
  },
  {
   "cell_type": "code",
   "execution_count": 4,
   "id": "eccbe06c",
   "metadata": {},
   "outputs": [
    {
     "name": "stdout",
     "output_type": "stream",
     "text": [
      "ONNX形式で保存完了: shape_detector.onnx\n"
     ]
    }
   ],
   "source": [
    "import torch\n",
    "\n",
    "# モデル構築と重み読み込み\n",
    "model = YOLOShapeDetector(S=16, B=2, num_classes=3)\n",
    "model.load_state_dict(torch.load(\"trained_model.pth\", map_location=\"cpu\", weights_only=True))\n",
    "model.eval()\n",
    "\n",
    "# ダミー入力（例: 1枚のグレースケール画像 [1, 1, 512, 512]）\n",
    "dummy_input = torch.randn(1, 1, 512, 512)\n",
    "\n",
    "# ONNXとして保存\n",
    "torch.onnx.export(model, dummy_input, \"trained_model.onnx\",\n",
    "                  input_names=[\"input\"], output_names=[\"output\"],\n",
    "                  opset_version=11)\n",
    "print(\"ONNX形式で保存完了: shape_detector.onnx\")"
   ]
  },
  {
   "cell_type": "code",
   "execution_count": null,
   "id": "f959ece3",
   "metadata": {},
   "outputs": [],
   "source": []
  }
 ],
 "metadata": {
  "kernelspec": {
   "display_name": "Python 3 (ipykernel)",
   "language": "python",
   "name": "python3"
  },
  "language_info": {
   "codemirror_mode": {
    "name": "ipython",
    "version": 3
   },
   "file_extension": ".py",
   "mimetype": "text/x-python",
   "name": "python",
   "nbconvert_exporter": "python",
   "pygments_lexer": "ipython3",
   "version": "3.8.12"
  }
 },
 "nbformat": 4,
 "nbformat_minor": 5
}
