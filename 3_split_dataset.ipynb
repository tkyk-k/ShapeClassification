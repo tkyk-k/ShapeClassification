{
 "cells": [
  {
   "cell_type": "code",
   "execution_count": 2,
   "id": "1a507612",
   "metadata": {},
   "outputs": [
    {
     "name": "stdout",
     "output_type": "stream",
     "text": [
      "✅ データセットを分割しました：train=4800 / val=1200\n"
     ]
    }
   ],
   "source": [
    "\"\"\"\n",
    "images/ と labels/ を train / val に分けて dataset/ 以下に移動する簡易スクリプト\n",
    "\"\"\"\n",
    "\n",
    "import os\n",
    "import random\n",
    "\n",
    "# 設定\n",
    "IMAGE_DIR = \"images\"\n",
    "LABEL_DIR = \"labels\"\n",
    "OUTPUT_DIR = \"dataset\"\n",
    "TRAIN_RATIO = 0.8  # train の割合（残りは val）\n",
    "\n",
    "# 出力先フォルダを作成\n",
    "for split in [\"train\", \"val\"]:\n",
    "    os.makedirs(f\"{OUTPUT_DIR}/{split}/images\", exist_ok=True)\n",
    "    os.makedirs(f\"{OUTPUT_DIR}/{split}/labels\", exist_ok=True)\n",
    "\n",
    "# ファイル一覧を取得・シャッフル\n",
    "image_files = sorted(f for f in os.listdir(IMAGE_DIR) if f.endswith(\".png\"))\n",
    "random.shuffle(image_files)\n",
    "\n",
    "# 分割処理\n",
    "num_train = int(len(image_files) * TRAIN_RATIO)\n",
    "splits = [(\"train\", image_files[:num_train]), (\"val\", image_files[num_train:])]\n",
    "\n",
    "for split_name, files in splits:\n",
    "    for img_file in files:\n",
    "        label_file = img_file.replace(\".png\", \".txt\")\n",
    "\n",
    "        os.rename(f\"{IMAGE_DIR}/{img_file}\", f\"{OUTPUT_DIR}/{split_name}/images/{img_file}\")\n",
    "        os.rename(f\"{LABEL_DIR}/{label_file}\", f\"{OUTPUT_DIR}/{split_name}/labels/{label_file}\")\n",
    "\n",
    "print(f\"✅ データセットを分割しました：train={num_train} / val={len(image_files) - num_train}\")\n"
   ]
  },
  {
   "cell_type": "code",
   "execution_count": null,
   "id": "97906e28",
   "metadata": {},
   "outputs": [],
   "source": []
  }
 ],
 "metadata": {
  "kernelspec": {
   "display_name": "Python 3 (ipykernel)",
   "language": "python",
   "name": "python3"
  },
  "language_info": {
   "codemirror_mode": {
    "name": "ipython",
    "version": 3
   },
   "file_extension": ".py",
   "mimetype": "text/x-python",
   "name": "python",
   "nbconvert_exporter": "python",
   "pygments_lexer": "ipython3",
   "version": "3.8.12"
  }
 },
 "nbformat": 4,
 "nbformat_minor": 5
}
